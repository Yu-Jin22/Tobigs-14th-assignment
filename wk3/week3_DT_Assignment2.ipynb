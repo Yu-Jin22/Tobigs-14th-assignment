{
 "cells": [
  {
   "cell_type": "code",
   "execution_count": 1,
   "metadata": {},
   "outputs": [],
   "source": [
    "import pandas as pd \n",
    "import numpy as np\n",
    "\n",
    "df = pd.read_csv('https://raw.githubusercontent.com/AugustLONG/ML01/master/01decisiontree/AllElectronics.csv')\n",
    "df.drop(\"RID\",axis=1, inplace = True) #RID는 그냥 Index라서 삭제"
   ]
  },
  {
   "cell_type": "code",
   "execution_count": 2,
   "metadata": {},
   "outputs": [
    {
     "data": {
      "text/html": [
       "<div>\n",
       "<style scoped>\n",
       "    .dataframe tbody tr th:only-of-type {\n",
       "        vertical-align: middle;\n",
       "    }\n",
       "\n",
       "    .dataframe tbody tr th {\n",
       "        vertical-align: top;\n",
       "    }\n",
       "\n",
       "    .dataframe thead th {\n",
       "        text-align: right;\n",
       "    }\n",
       "</style>\n",
       "<table border=\"1\" class=\"dataframe\">\n",
       "  <thead>\n",
       "    <tr style=\"text-align: right;\">\n",
       "      <th></th>\n",
       "      <th>age</th>\n",
       "      <th>income</th>\n",
       "      <th>student</th>\n",
       "      <th>credit_rating</th>\n",
       "      <th>class_buys_computer</th>\n",
       "    </tr>\n",
       "  </thead>\n",
       "  <tbody>\n",
       "    <tr>\n",
       "      <th>0</th>\n",
       "      <td>youth</td>\n",
       "      <td>high</td>\n",
       "      <td>no</td>\n",
       "      <td>fair</td>\n",
       "      <td>no</td>\n",
       "    </tr>\n",
       "    <tr>\n",
       "      <th>1</th>\n",
       "      <td>youth</td>\n",
       "      <td>high</td>\n",
       "      <td>no</td>\n",
       "      <td>excellent</td>\n",
       "      <td>no</td>\n",
       "    </tr>\n",
       "    <tr>\n",
       "      <th>2</th>\n",
       "      <td>middle_aged</td>\n",
       "      <td>high</td>\n",
       "      <td>no</td>\n",
       "      <td>fair</td>\n",
       "      <td>yes</td>\n",
       "    </tr>\n",
       "    <tr>\n",
       "      <th>3</th>\n",
       "      <td>senior</td>\n",
       "      <td>medium</td>\n",
       "      <td>no</td>\n",
       "      <td>fair</td>\n",
       "      <td>yes</td>\n",
       "    </tr>\n",
       "    <tr>\n",
       "      <th>4</th>\n",
       "      <td>senior</td>\n",
       "      <td>low</td>\n",
       "      <td>yes</td>\n",
       "      <td>fair</td>\n",
       "      <td>yes</td>\n",
       "    </tr>\n",
       "    <tr>\n",
       "      <th>5</th>\n",
       "      <td>senior</td>\n",
       "      <td>low</td>\n",
       "      <td>yes</td>\n",
       "      <td>excellent</td>\n",
       "      <td>no</td>\n",
       "    </tr>\n",
       "    <tr>\n",
       "      <th>6</th>\n",
       "      <td>middle_aged</td>\n",
       "      <td>low</td>\n",
       "      <td>yes</td>\n",
       "      <td>excellent</td>\n",
       "      <td>yes</td>\n",
       "    </tr>\n",
       "    <tr>\n",
       "      <th>7</th>\n",
       "      <td>youth</td>\n",
       "      <td>medium</td>\n",
       "      <td>no</td>\n",
       "      <td>fair</td>\n",
       "      <td>no</td>\n",
       "    </tr>\n",
       "    <tr>\n",
       "      <th>8</th>\n",
       "      <td>youth</td>\n",
       "      <td>low</td>\n",
       "      <td>yes</td>\n",
       "      <td>fair</td>\n",
       "      <td>yes</td>\n",
       "    </tr>\n",
       "    <tr>\n",
       "      <th>9</th>\n",
       "      <td>senior</td>\n",
       "      <td>medium</td>\n",
       "      <td>yes</td>\n",
       "      <td>fair</td>\n",
       "      <td>yes</td>\n",
       "    </tr>\n",
       "    <tr>\n",
       "      <th>10</th>\n",
       "      <td>youth</td>\n",
       "      <td>medium</td>\n",
       "      <td>yes</td>\n",
       "      <td>excellent</td>\n",
       "      <td>yes</td>\n",
       "    </tr>\n",
       "    <tr>\n",
       "      <th>11</th>\n",
       "      <td>middle_aged</td>\n",
       "      <td>medium</td>\n",
       "      <td>no</td>\n",
       "      <td>excellent</td>\n",
       "      <td>yes</td>\n",
       "    </tr>\n",
       "    <tr>\n",
       "      <th>12</th>\n",
       "      <td>middle_aged</td>\n",
       "      <td>high</td>\n",
       "      <td>yes</td>\n",
       "      <td>fair</td>\n",
       "      <td>yes</td>\n",
       "    </tr>\n",
       "    <tr>\n",
       "      <th>13</th>\n",
       "      <td>senior</td>\n",
       "      <td>medium</td>\n",
       "      <td>no</td>\n",
       "      <td>excellent</td>\n",
       "      <td>no</td>\n",
       "    </tr>\n",
       "  </tbody>\n",
       "</table>\n",
       "</div>"
      ],
      "text/plain": [
       "            age  income student credit_rating class_buys_computer\n",
       "0         youth    high      no          fair                  no\n",
       "1         youth    high      no     excellent                  no\n",
       "2   middle_aged    high      no          fair                 yes\n",
       "3        senior  medium      no          fair                 yes\n",
       "4        senior     low     yes          fair                 yes\n",
       "5        senior     low     yes     excellent                  no\n",
       "6   middle_aged     low     yes     excellent                 yes\n",
       "7         youth  medium      no          fair                  no\n",
       "8         youth     low     yes          fair                 yes\n",
       "9        senior  medium     yes          fair                 yes\n",
       "10        youth  medium     yes     excellent                 yes\n",
       "11  middle_aged  medium      no     excellent                 yes\n",
       "12  middle_aged    high     yes          fair                 yes\n",
       "13       senior  medium      no     excellent                  no"
      ]
     },
     "execution_count": 2,
     "metadata": {},
     "output_type": "execute_result"
    }
   ],
   "source": [
    "df"
   ]
  },
  {
   "cell_type": "markdown",
   "metadata": {},
   "source": [
    "### Entropy(A) = $\"-\\sum(pk)log2(pk)\"$"
   ]
  },
  {
   "cell_type": "code",
   "execution_count": 27,
   "metadata": {},
   "outputs": [],
   "source": [
    "def getEntropy(df, feature) :\n",
    "    elements, counts = np.unique(df[feature], return_counts = True) # feature의 요소와 그 요소의 개수를 알기위해 unique를 사용한다. \n",
    "    #return_counts = True라고 해야 중복되지 않는 모든 요소들을 보여준다. \n",
    "    \n",
    "    entropy = -np.sum([(counts[i]/np.sum(counts))*np.log2(counts[i]/np.sum(counts)) for i in range(len(elements))])\n",
    "    #elememts가 yes일떄와 no일떄를 각각 계산하기 위해서 for문을돌려 위의 식을 그대로 구현해준 다음 -np.sum으로 다 더해준다. \n",
    "    \n",
    "    return(entropy)"
   ]
  },
  {
   "cell_type": "code",
   "execution_count": 28,
   "metadata": {},
   "outputs": [
    {
     "data": {
      "text/plain": [
       "0.9402859586706311"
      ]
     },
     "execution_count": 28,
     "metadata": {},
     "output_type": "execute_result"
    }
   ],
   "source": [
    "getEntropy(df, \"class_buys_computer\")"
   ]
  },
  {
   "cell_type": "markdown",
   "metadata": {},
   "source": [
    "### Gain(S,A) = E(S)- I(S,A)"
   ]
  },
  {
   "cell_type": "code",
   "execution_count": 144,
   "metadata": {},
   "outputs": [],
   "source": [
    "def getGainA(df, feature) :\n",
    "    info_D = getEntropy(df, feature) # 목표변수에 대한 Entropy 를 구하기\n",
    "    columns = list(df.loc[:, df.columns != feature]) # 목표변수(feature)를 제외한 나머지 변수들의 변수명을 리스트 형태로 저장\n",
    "    len_df = len(df) # df의 개수 \n",
    "    \n",
    "    real_gain =[]\n",
    "    \n",
    "    for i in columns:\n",
    "        unique = df[i].unique() #각변수에 존재하는 값들이 무엇인지 알기 위해서 unique한 값을 뽑아서 저장한다.\n",
    "        \n",
    "        info_D2 = 0\n",
    "        \n",
    "        for j in range(len(unique)):\n",
    "            a = df.loc[df[i] == unique[j]] #i=0일땐 일단 age니까 age의 첫번째값(youth)와 j=0일떄 age의 유니크한값(youth)\n",
    "            #이런식으로 값이 같아질때의 행만을 뽑아서 계산할 수 있도록 했습니다. \n",
    "            \n",
    "            info_D2 += (len(a[i])/len_df) *(getEntropy(a, feature)) #I(S,A)를 구하기 위한 식\n",
    "            #np,sum을 이용하려고 하니 값이 다르게 나와서 초기값을 0으로 주고 계속 더하는방식으로 하였다. \n",
    "        \n",
    "        gain = info_D - info_D2 #위에 써있는 Gain(S,A)식처럼 parent_gain에서 childern_gain을 빼주어 구한다. \n",
    "        real_gain.append(gain) #새로운 리스트를 만들어 넣어주지 않으면 제일 마지막값만 도출되기 때문에 빈 리스트를 생성하여 값들을 차례대로 넣어준다 \n",
    "        \n",
    "        \n",
    "    result = real_gain\n",
    "    return(result)"
   ]
  },
  {
   "cell_type": "markdown",
   "metadata": {},
   "source": [
    "* 밑에는 getGainA(df, feature)를 구현하기위해서 코드 하나하나를 실행해본것을 첨부하였다."
   ]
  },
  {
   "cell_type": "code",
   "execution_count": 108,
   "metadata": {},
   "outputs": [
    {
     "name": "stdout",
     "output_type": "stream",
     "text": [
      "['youth' 'middle_aged' 'senior']\n",
      "3\n",
      "['high' 'medium' 'low']\n",
      "3\n",
      "['no' 'yes']\n",
      "2\n",
      "['fair' 'excellent']\n",
      "2\n"
     ]
    }
   ],
   "source": [
    "#첫번째 for문을 구현하기 위함\n",
    "columns = list(df.loc[:, df.columns != \"class_buys_computer\"])\n",
    "for i in columns :\n",
    "    unique = df[i].unique()\n",
    "    print(unique)\n",
    "    print(len(unique))"
   ]
  },
  {
   "cell_type": "code",
   "execution_count": 110,
   "metadata": {},
   "outputs": [
    {
     "name": "stdout",
     "output_type": "stream",
     "text": [
      "      age  income student credit_rating class_buys_computer\n",
      "0   youth    high      no          fair                  no\n",
      "1   youth    high      no     excellent                  no\n",
      "7   youth  medium      no          fair                  no\n",
      "8   youth     low     yes          fair                 yes\n",
      "10  youth  medium     yes     excellent                 yes\n"
     ]
    }
   ],
   "source": [
    "#두번째 for문을 구현하기위함-1\n",
    "unique = df[\"age\"].unique()\n",
    "b = df.loc[df[\"age\"] == unique[0]]\n",
    "print(b)"
   ]
  },
  {
   "cell_type": "code",
   "execution_count": 146,
   "metadata": {},
   "outputs": [
    {
     "name": "stdout",
     "output_type": "stream",
     "text": [
      "            age  income student credit_rating class_buys_computer\n",
      "2   middle_aged    high      no          fair                 yes\n",
      "6   middle_aged     low     yes     excellent                 yes\n",
      "11  middle_aged  medium      no     excellent                 yes\n",
      "12  middle_aged    high     yes          fair                 yes\n"
     ]
    }
   ],
   "source": [
    "#두번째 for문을 구현하기위함-2\n",
    "unique = df[\"age\"].unique()\n",
    "b = df.loc[df[\"age\"] == unique[1]]\n",
    "print(b)"
   ]
  },
  {
   "cell_type": "code",
   "execution_count": 145,
   "metadata": {},
   "outputs": [
    {
     "data": {
      "text/plain": [
       "[0.24674981977443933,\n",
       " 0.02922256565895487,\n",
       " 0.15183550136234159,\n",
       " 0.04812703040826949]"
      ]
     },
     "execution_count": 145,
     "metadata": {},
     "output_type": "execute_result"
    }
   ],
   "source": [
    "getGainA(df, \"class_buys_computer\")"
   ]
  },
  {
   "cell_type": "code",
   "execution_count": 57,
   "metadata": {},
   "outputs": [
    {
     "data": {
      "text/plain": [
       "[['age', 0.24674981977443933],\n",
       " ['income', 0.02922256565895487],\n",
       " ['student', 0.15183550136234159],\n",
       " ['credit_rating', 0.04812703040826949]]"
      ]
     },
     "execution_count": 57,
     "metadata": {},
     "output_type": "execute_result"
    }
   ],
   "source": [
    "#정답\n",
    "#getGainA(df, \"class_buys_computer\")"
   ]
  }
 ],
 "metadata": {
  "kernelspec": {
   "display_name": "Python 3",
   "language": "python",
   "name": "python3"
  },
  "language_info": {
   "codemirror_mode": {
    "name": "ipython",
    "version": 3
   },
   "file_extension": ".py",
   "mimetype": "text/x-python",
   "name": "python",
   "nbconvert_exporter": "python",
   "pygments_lexer": "ipython3",
   "version": "3.8.3"
  }
 },
 "nbformat": 4,
 "nbformat_minor": 4
}
