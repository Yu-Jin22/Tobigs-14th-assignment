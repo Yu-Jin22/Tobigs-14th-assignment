{
 "cells": [
  {
   "cell_type": "code",
   "execution_count": 1,
   "metadata": {},
   "outputs": [],
   "source": [
    "from tensorflow.keras.layers import Conv2D, MaxPooling2D,Flatten,Dense,Dropout\n",
    "from tensorflow.keras.models import Sequential\n",
    "from tensorflow.keras import optimizers"
   ]
  },
  {
   "cell_type": "markdown",
   "metadata": {},
   "source": [
    "* Alexnet에서의 활성화함수는 마지막 층을 제외하고는 모두 relu를 사용한다고 한다.\n",
    "* Overlapping pooling : 보통은 이미지의 크기를 반으로 줄여서 사용하지만 여기서는 3x3커널에 stride 2를사용하여 겹치게 하였다\n",
    "* overfitting 방지를 위해 Alexnet에서는 Fully Connected layer의 처음 2개에 대해서만 적용하였다. 또한 그 비율은 50%이다.\n",
    "* Alexnet의 최적화는 SGD(batch size = 128, momentum = 0.9,weight decay = 0.0005, learning rate = 0.01)이라고 한다"
   ]
  },
  {
   "cell_type": "code",
   "execution_count": 2,
   "metadata": {},
   "outputs": [],
   "source": [
    "input_size = (227, 227, 3) \n",
    "\n",
    "model = Sequential([# Layer 1 : Convolution Layer_1\n",
    "                    Conv2D(96, (11,11), strides = 4, padding = 'same', input_shape=input_size),\n",
    "    \n",
    "                    # Layer 2 : Max Pooling_1\n",
    "                    MaxPooling2D(pool_size = (3,3), strides = 2),\n",
    "    \n",
    "                    # Layer 3 : Convolution Layer_2\n",
    "                    Conv2D(256, (5,5), strides = 1, activation = 'relu', padding = 'same'),\n",
    "    \n",
    "                    # Layer 4 : Max Pooling_2 \n",
    "                    MaxPooling2D(pool_size = (3,3), strides = 2),\n",
    "    \n",
    "                    # Layer 5 : Convolution Layer_3\n",
    "                    Conv2D(384, (3,3), strides = 1, activation = 'relu', padding = 'same'),\n",
    "    \n",
    "                    # Layer 6 : Convolution Layer_4\n",
    "                    Conv2D(384, (3,3), strides = 1, activation = 'relu', padding = 'same'),\n",
    "    \n",
    "                    # Layer 7 : Convolution Layer_5\n",
    "                    Conv2D(256, (3,3), strides = 1, activation = 'relu', padding = 'same'),\n",
    "    \n",
    "                    # Layer 8 : Max Pooling_3\n",
    "                    MaxPooling2D(pool_size = (3,3), strides = 2),\n",
    "    \n",
    "                    # Layer 9 : Fully_Connected layer_1\n",
    "                    Flatten(),\n",
    "                    Dense(4096, activation = 'relu'),\n",
    "                    Dropout(0.5),\n",
    "    \n",
    "                    # Layer 10 : Fully_Connected layer_2\n",
    "                    Dense(4096, activation = 'relu'),\n",
    "                    Dropout(0.5), \n",
    "    \n",
    "                    # Layer 11 : Fully_Connected layer_3\n",
    "                    Dense(1000, activation = 'softmax')\n",
    "\n",
    "])"
   ]
  },
  {
   "cell_type": "code",
   "execution_count": 3,
   "metadata": {},
   "outputs": [],
   "source": [
    "opt = optimizers.SGD(lr = 0.01, decay = 0.0005, momentum = 0.9)\n",
    "model.compile(loss = 'categorical_crossentropy',\n",
    "              optimizer = opt, \n",
    "              metrics=['accuracy'])"
   ]
  },
  {
   "cell_type": "code",
   "execution_count": 4,
   "metadata": {},
   "outputs": [
    {
     "name": "stdout",
     "output_type": "stream",
     "text": [
      "Model: \"sequential\"\n",
      "_________________________________________________________________\n",
      "Layer (type)                 Output Shape              Param #   \n",
      "=================================================================\n",
      "conv2d (Conv2D)              (None, 57, 57, 96)        34944     \n",
      "_________________________________________________________________\n",
      "max_pooling2d (MaxPooling2D) (None, 28, 28, 96)        0         \n",
      "_________________________________________________________________\n",
      "conv2d_1 (Conv2D)            (None, 28, 28, 256)       614656    \n",
      "_________________________________________________________________\n",
      "max_pooling2d_1 (MaxPooling2 (None, 13, 13, 256)       0         \n",
      "_________________________________________________________________\n",
      "conv2d_2 (Conv2D)            (None, 13, 13, 384)       885120    \n",
      "_________________________________________________________________\n",
      "conv2d_3 (Conv2D)            (None, 13, 13, 384)       1327488   \n",
      "_________________________________________________________________\n",
      "conv2d_4 (Conv2D)            (None, 13, 13, 256)       884992    \n",
      "_________________________________________________________________\n",
      "max_pooling2d_2 (MaxPooling2 (None, 6, 6, 256)         0         \n",
      "_________________________________________________________________\n",
      "flatten (Flatten)            (None, 9216)              0         \n",
      "_________________________________________________________________\n",
      "dense (Dense)                (None, 4096)              37752832  \n",
      "_________________________________________________________________\n",
      "dropout (Dropout)            (None, 4096)              0         \n",
      "_________________________________________________________________\n",
      "dense_1 (Dense)              (None, 4096)              16781312  \n",
      "_________________________________________________________________\n",
      "dropout_1 (Dropout)          (None, 4096)              0         \n",
      "_________________________________________________________________\n",
      "dense_2 (Dense)              (None, 1000)              4097000   \n",
      "=================================================================\n",
      "Total params: 62,378,344\n",
      "Trainable params: 62,378,344\n",
      "Non-trainable params: 0\n",
      "_________________________________________________________________\n"
     ]
    }
   ],
   "source": [
    "model.summary()"
   ]
  },
  {
   "cell_type": "markdown",
   "metadata": {},
   "source": [
    "* 과제1번에서 구했던 output_shape랑 파라미터 개수가 같은 것을 확인할 수 있다!"
   ]
  }
 ],
 "metadata": {
  "kernelspec": {
   "display_name": "Python 3",
   "language": "python",
   "name": "python3"
  },
  "language_info": {
   "codemirror_mode": {
    "name": "ipython",
    "version": 3
   },
   "file_extension": ".py",
   "mimetype": "text/x-python",
   "name": "python",
   "nbconvert_exporter": "python",
   "pygments_lexer": "ipython3",
   "version": "3.8.3"
  }
 },
 "nbformat": 4,
 "nbformat_minor": 4
}
