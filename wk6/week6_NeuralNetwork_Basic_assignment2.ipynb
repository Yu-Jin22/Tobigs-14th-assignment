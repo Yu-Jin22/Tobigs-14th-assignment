{
 "cells": [
  {
   "cell_type": "markdown",
   "metadata": {},
   "source": [
    "# Tobig's 14기 6주차 Neural Network Assignment2\n",
    "### Made by 이지용"
   ]
  },
  {
   "cell_type": "code",
   "execution_count": 58,
   "metadata": {},
   "outputs": [],
   "source": [
    "import numpy as np\n",
    "from matplotlib import pyplot as plt"
   ]
  },
  {
   "cell_type": "markdown",
   "metadata": {},
   "source": [
    "## 데이터 불러오기"
   ]
  },
  {
   "cell_type": "markdown",
   "metadata": {},
   "source": [
    "학습에 쓰일 데이터는 keras의 cifar-10 데이터입니다.  \n",
    "32x32 이미지에 색상을 rgb 3가지로 분류한 데이터로 총 3072 차원입니다.  \n",
    "이 이미지를 10가지 카테고리로 분류했습니다.  \n",
    "https://www.cs.toronto.edu/~kriz/cifar.html"
   ]
  },
  {
   "cell_type": "code",
   "execution_count": 59,
   "metadata": {},
   "outputs": [],
   "source": [
    "x_train = np.load(\"./x_train_data.npy\")\n",
    "y_train = np.load(\"./y_train_data.npy\")\n",
    "x_test = np.load(\"./x_test_data.npy\")\n",
    "y_test = np.load(\"./y_test_data.npy\")"
   ]
  },
  {
   "cell_type": "code",
   "execution_count": 60,
   "metadata": {},
   "outputs": [
    {
     "data": {
      "text/plain": [
       "((5000, 3072), (5000,), (1000, 3072), (1000,))"
      ]
     },
     "execution_count": 60,
     "metadata": {},
     "output_type": "execute_result"
    }
   ],
   "source": [
    "x_train.shape, y_train.shape, x_test.shape, y_test.shape"
   ]
  },
  {
   "cell_type": "markdown",
   "metadata": {},
   "source": [
    "## 활성화 함수 클래스"
   ]
  },
  {
   "cell_type": "markdown",
   "metadata": {},
   "source": [
    "신경망에 사용될 함수들을 정의합니다."
   ]
  },
  {
   "cell_type": "markdown",
   "metadata": {},
   "source": [
    "### Activation Functions"
   ]
  },
  {
   "cell_type": "code",
   "execution_count": 61,
   "metadata": {},
   "outputs": [],
   "source": [
    "class sigmoid :\n",
    "    # sigmoid 함수입니다.\n",
    "    def forward(z) :\n",
    "        c = np.max(z)/2\n",
    "        return np.exp(c)/(np.exp(c)+np.exp(-z+c))\n",
    "    \n",
    "    # sigmoid 함수의 미분을 작성하세요\n",
    "    def backward(a) :\n",
    "        return a*(1-a)\n",
    "        "
   ]
  },
  {
   "cell_type": "markdown",
   "metadata": {},
   "source": [
    "* sigmoid 함수는 s자 형태를 띄는 함수이다. \n",
    "* 입력값이 커질수록 1로 수렴, 입력값이 작을수록 0에 수렴한다. \n",
    "* 장점 : 출력값의 범위가 (0, 1)로 제한되고, 미분식이 단순한 형태이다.\n",
    "* 단점 : Vanishing Gradient 문제 발생(식에 따르면 입력이 아무리 커도 미분값의 범위는 (0, 1/4)이다. 그렇기 때문에 미분값이 0에 수렴할 것이고, 학습의 효율이 매우 떨어질수있다.), exp연산은 비용이 크다고 한다."
   ]
  },
  {
   "cell_type": "code",
   "execution_count": 62,
   "metadata": {},
   "outputs": [],
   "source": [
    "z = np.array([-1,2,3])"
   ]
  },
  {
   "cell_type": "code",
   "execution_count": 63,
   "metadata": {},
   "outputs": [
    {
     "data": {
      "text/plain": [
       "array([0.26894142, 0.88079708, 0.95257413])"
      ]
     },
     "execution_count": 63,
     "metadata": {},
     "output_type": "execute_result"
    }
   ],
   "source": [
    "sigmoid.forward(z)"
   ]
  },
  {
   "cell_type": "code",
   "execution_count": 64,
   "metadata": {},
   "outputs": [
    {
     "data": {
      "text/plain": [
       "array([-2, -2, -6])"
      ]
     },
     "execution_count": 64,
     "metadata": {},
     "output_type": "execute_result"
    }
   ],
   "source": [
    "sigmoid.backward(z)"
   ]
  },
  {
   "cell_type": "code",
   "execution_count": 65,
   "metadata": {},
   "outputs": [],
   "source": [
    "class relu :\n",
    "    # relu 함수를 작성하세요\n",
    "    def forward(z) :\n",
    "        return np.maximum(0, z)\n",
    "    \n",
    "    # relu 함수의 미분을 작성하세요\n",
    "    def backward(a) :\n",
    "        return np.where(a > 0, 1, 0)"
   ]
  },
  {
   "cell_type": "markdown",
   "metadata": {},
   "source": [
    "* sigmoid함수의 Vanishing Gradient 문제를 해결하기 위해 사용하는것이 ReLU(Rectified Linear Unit)이다.\n",
    "* 현재 딥러닝에서 가장 많이 사용하는 활성화 함수 중 하나라고 한다.\n",
    "* 장점 : 연산속도가 빠르다(비교연산 1회를 통해 함숫값을 구할수 있다고한다), 모든 정보에 반응하는 것이 아닌 효율적으로 정보를 수용한다\n",
    "* 단점 : Dying ReLU(입력값이 0또는 음수일때, 학습을 하지못한다.) -- 이문제를 해결하기위해 Leaky ReLU, PReLU(Parametric ReLU), ELU(Exponential Linear Unit)등의 유사함수가 만들어진다고한다. "
   ]
  },
  {
   "cell_type": "code",
   "execution_count": 66,
   "metadata": {},
   "outputs": [
    {
     "data": {
      "text/plain": [
       "array([0, 2, 3])"
      ]
     },
     "execution_count": 66,
     "metadata": {},
     "output_type": "execute_result"
    }
   ],
   "source": [
    "relu.forward(z)"
   ]
  },
  {
   "cell_type": "code",
   "execution_count": 67,
   "metadata": {},
   "outputs": [
    {
     "data": {
      "text/plain": [
       "array([0, 1, 1])"
      ]
     },
     "execution_count": 67,
     "metadata": {},
     "output_type": "execute_result"
    }
   ],
   "source": [
    "relu.backward(z)"
   ]
  },
  {
   "cell_type": "markdown",
   "metadata": {},
   "source": [
    "### Output Activation Function"
   ]
  },
  {
   "cell_type": "markdown",
   "metadata": {},
   "source": [
    "softmax는 overflow 문제와 차원 문제 때문에 작성해두었습니다.\n",
    "이 부분은 softmax overflow문제에 대해 검색해보세요. \n",
    "#### Softmax는 수식에 e^x 들어가기 때문에 Overflow 범위를 넘어설 수 있다. 이를 해결하기 위해  Softmax의 성질(원소에 어떠한 수를 더하여 exp를 취하더라도 결과 값이 같다)을 이용한다."
   ]
  },
  {
   "cell_type": "code",
   "execution_count": 68,
   "metadata": {},
   "outputs": [],
   "source": [
    "class softmax :\n",
    "    def forward(z) :\n",
    "        y = []\n",
    "        for zi in z :\n",
    "            #print(\"z\", z[0])\n",
    "            c = np.max(zi) #최댓값 저장 \n",
    "            exp_zi = np.exp(zi-c) # 각각의 원소에서 최댓값을 빼준뒤 exp를 취한다.(overflow 방지)\n",
    "            sum_exp_zi = np.sum(exp_zi)\n",
    "            yi = exp_zi / sum_exp_zi\n",
    "            y.append(yi)\n",
    "            #print(\"y\", y[0])\n",
    "        #print(y[0])\n",
    "        return np.array(y)\n",
    "    \n",
    "    def backward(p, y) :\n",
    "        dp = p.copy()\n",
    "        for dpi, yi in zip(dp, y):\n",
    "            for k in range(dp.shape[1]):\n",
    "                if k == yi :\n",
    "                    dpi[k] -= 1\n",
    "        return dp"
   ]
  },
  {
   "cell_type": "code",
   "execution_count": 69,
   "metadata": {},
   "outputs": [],
   "source": [
    "z = np.array([[np.log(1), np.log(3), np.log(4)]])\n",
    "p = np.array([[0.125, 0.375, 0.5]])\n",
    "y = np.array([2])"
   ]
  },
  {
   "cell_type": "code",
   "execution_count": 70,
   "metadata": {},
   "outputs": [
    {
     "data": {
      "text/plain": [
       "array([[0.125, 0.375, 0.5  ]])"
      ]
     },
     "execution_count": 70,
     "metadata": {},
     "output_type": "execute_result"
    }
   ],
   "source": [
    "softmax.forward(z)"
   ]
  },
  {
   "cell_type": "code",
   "execution_count": 71,
   "metadata": {},
   "outputs": [
    {
     "data": {
      "text/plain": [
       "array([[ 0.125,  0.375, -0.5  ]])"
      ]
     },
     "execution_count": 71,
     "metadata": {},
     "output_type": "execute_result"
    }
   ],
   "source": [
    "softmax.backward(p, y)"
   ]
  },
  {
   "cell_type": "markdown",
   "metadata": {},
   "source": [
    "### Loss Functions"
   ]
  },
  {
   "cell_type": "markdown",
   "metadata": {},
   "source": [
    "−∑𝑦𝑘 log(𝑝𝑘)= − log 𝑝𝑖, (1 ≤ 𝑖 ≤ K)에 따라서 빈칸을 채워준다."
   ]
  },
  {
   "cell_type": "code",
   "execution_count": 72,
   "metadata": {},
   "outputs": [],
   "source": [
    "def cross_entropy(p, y) :\n",
    "    # cross entropy 함수를 작성하세요\n",
    "    loss = []\n",
    "    for pi, yi in zip(p, y) :\n",
    "        for k in range(p.shape[1]) :\n",
    "            if k == yi :\n",
    "                loss.append(-np.log(pi[k]+1e-8))# 1e-8은 무한대로 발산하는 경우를 방지하기 위해 존재합니다\n",
    "    return loss"
   ]
  },
  {
   "cell_type": "code",
   "execution_count": 73,
   "metadata": {},
   "outputs": [
    {
     "data": {
      "text/plain": [
       "[0.6931471605599454]"
      ]
     },
     "execution_count": 73,
     "metadata": {},
     "output_type": "execute_result"
    }
   ],
   "source": [
    "cross_entropy(p, y)"
   ]
  },
  {
   "cell_type": "markdown",
   "metadata": {},
   "source": [
    "## 레이어 클래스"
   ]
  },
  {
   "cell_type": "markdown",
   "metadata": {},
   "source": [
    "각 레이어의 크기와 형태를 입력값과 출력값에 따라 정의합니다."
   ]
  },
  {
   "cell_type": "code",
   "execution_count": 74,
   "metadata": {},
   "outputs": [],
   "source": [
    "class Layer:\n",
    "    def __init__(self, input_size, output_size, std=1e-4) :\n",
    "        self.input_size = input_size\n",
    "        self.output_size = output_size\n",
    "        self.bias = np.random.randn(self.output_size) \n",
    "        self.weight = np.random.randn(self.input_size, self.output_size)*std # std는 가중치 초기화에서 표준편차를 줄이기 위해 존재합니다.\n",
    "                                    "
   ]
  },
  {
   "cell_type": "markdown",
   "metadata": {},
   "source": [
    "## 뉴럴넷 클래스"
   ]
  },
  {
   "cell_type": "markdown",
   "metadata": {},
   "source": [
    "각 메소드와 변수들의 역할을 주석에 달아주세요 "
   ]
  },
  {
   "cell_type": "code",
   "execution_count": 75,
   "metadata": {},
   "outputs": [],
   "source": [
    "class CustomNet:\n",
    "    # CustomNet을 선언할 때 생성되는 값들입니다.\n",
    "    def __init__(self, lr=0.0001, epoch=500, batch_size=200) :\n",
    "        self.lr = lr #학습률\n",
    "        self.epoch = epoch #한번의 epoch는 전체 데이터 셋에 대해서 forward + backward가 완료된 상태를 말한다. \n",
    "        #적절한 epoch값을 설정하여야 underfitting과 overfitting을 방지할수있다. \n",
    "        self.batch_size = batch_size # 한번 batch마다 주는 데이터 샘플의 사이즈\n",
    "        self.loss_function = cross_entropy # mse로 대체 가능하지만 이번 과제는 분류이므로 cross_entropy로 넣었어요.\n",
    "        self.layers = [] #쌓을 층\n",
    "        self.activations = [softmax] #활성화함수\n",
    "        self.nodes = [] #각 층의 노드 \n",
    "    \n",
    "    # Layer를 추가할 때 호출합니다.\n",
    "    def addLayer(self, Layer) : \n",
    "        self.layers.append(Layer)\n",
    "        if not self.nodes :\n",
    "            self.nodes.append(np.zeros(Layer.input_size)) #self.nodes가 비어있으면 input_size만큼 추가해주고\n",
    "        self.nodes.append(np.zeros(Layer.output_size))    #비어있지 않으면 output_size를 차례대로 넣어준다. \n",
    "    \n",
    "    # Activation Function을 추가할 때 호출합니다.\n",
    "    def addActivation(self, Activation):\n",
    "        tmp = self.activations.pop()\n",
    "        self.activations.append(Activation)\n",
    "        self.activations.append(tmp)\n",
    "        \n",
    "    # 순전파 함수\n",
    "    def _forward(self, X) :\n",
    "        self.nodes[0] = X.copy()\n",
    "        output = X.copy()\n",
    "        for i in range(len(self.layers)):\n",
    "            Layer = self.layers[i]\n",
    "            Activation = self.activations[i]\n",
    "            #𝑊𝒙 + 𝒃를 만족하는 식을 구현한다. \n",
    "            output = np.dot(self.nodes[i], Layer.weight) #𝑊𝒙 : 노드의 값과 가중치값을 행렬곱한다\n",
    "            output = output+ Layer.bias # +b : output에 bias값을 더한다.\n",
    "            output = Activation.forward(output) #𝑊𝒙 + 𝒃를 활성화 함수에 결과를 도출한다\n",
    "            #Layer.output = output\n",
    "            self.nodes[i+1] = output \n",
    "        return output   \n",
    "    \n",
    "    # 역전파 함수\n",
    "    def _backward(self, X, output, y) :\n",
    "        for i in reversed(range(len(self.layers))):\n",
    "            a = self.nodes[i+1]\n",
    "            Layer = self.layers[i]\n",
    "            Activation = self.activations[i]\n",
    "            if i+1 == len(self.layers):\n",
    "                error = Activation.backward(output, y)\n",
    "            else :\n",
    "                error *= Activation.backward(a)\n",
    "            #print(error.shape, X.shape, output.shape,y.shape)\n",
    "            #weight에서 (error*x)*lr을 빼주면서 업데이트 시키기위한 식을 구현한다.\n",
    "            Layer.weight -= np.dot(error.T, self.nodes[i]).T*self.lr/X.shape[0]\n",
    "            Layer.bias -= error.sum(axis=0)*self.lr/X.shape[0]\n",
    "            error = np.dot(error, Layer.weight.T) #각 층에서 업데이트 된 weight와 error 값을 곱하여 최종값으로 출력\n",
    "    \n",
    "    # Accrucy를 반환합니다.\n",
    "    def _accuracy(self, output, y) :\n",
    "        pre_p = np.argmax(output, axis=1)\n",
    "        return np.sum(pre_p==y)/y.shape[0]\n",
    "    \n",
    "    # 데이터셋에 모델을 fit할때 호출합니다.\n",
    "    def fit(self, X, y, val_X, val_y):\n",
    "        history = {'val_acc': [],'val_loss': []}\n",
    "        N = X.shape[0]\n",
    "        for i in range(self.epoch) :\n",
    "            for j in range(N//self.batch_size) :\n",
    "                batch_mask = np.random.choice(N, self.batch_size) #이미 있는 데이터 집합에서 일부를 무작위로 선택\n",
    "                X_batch = X[batch_mask]\n",
    "                y_batch = y[batch_mask]\n",
    "                output = self._forward(X_batch) #순전파 실행\n",
    "                #loss = self.loss_function(output, y_batch)\n",
    "                self._backward(X_batch, output, y_batch) #역전파 실행\n",
    "            \n",
    "            #accuracy와 loss를 기록해둡시다.\n",
    "            output = self._forward(val_X)\n",
    "            history[\"val_acc\"].append(self._accuracy(output, val_y))\n",
    "            history[\"val_loss\"].append(sum(self.loss_function(output, val_y)))\n",
    "            \n",
    "            #중간중간 기록을 찍어볼 때 사용. 적절히 조절해 쓰세요.\n",
    "            if i % 50 == 0:\n",
    "                print(i, \"test accuracy :\", history[\"val_acc\"][-1])\n",
    "                print(i, \"test loss     :\", history[\"val_loss\"][-1])\n",
    "        return history"
   ]
  },
  {
   "cell_type": "code",
   "execution_count": 26,
   "metadata": {},
   "outputs": [],
   "source": [
    "# 에폭을 85, batch_size를 400으로 주고, 층의 수를 다르게 주어보았다!\n",
    "nn = CustomNet(lr=0.0005, epoch=85, batch_size=400)\n",
    "\n",
    "nn.addLayer(Layer(3072,1500))\n",
    "nn.addActivation(sigmoid)\n",
    "nn.addLayer(Layer(1500,10))"
   ]
  },
  {
   "cell_type": "code",
   "execution_count": 27,
   "metadata": {},
   "outputs": [
    {
     "name": "stdout",
     "output_type": "stream",
     "text": [
      "(3072, 1500) (1500,)\n",
      "(1500, 10) (10,)\n"
     ]
    }
   ],
   "source": [
    "# 선언한 뉴럴넷의 구조입니다.\n",
    "for layer in nn.layers:\n",
    "    print(layer.weight.shape, layer.bias.shape)"
   ]
  },
  {
   "cell_type": "code",
   "execution_count": 28,
   "metadata": {},
   "outputs": [
    {
     "name": "stdout",
     "output_type": "stream",
     "text": [
      "0 test accuracy : 0.103\n",
      "0 test loss     : 2529.354876518854\n",
      "50 test accuracy : 0.297\n",
      "50 test loss     : 1962.160506711721\n"
     ]
    }
   ],
   "source": [
    "history = nn.fit(x_train, y_train, x_test, y_test)"
   ]
  },
  {
   "cell_type": "code",
   "execution_count": 29,
   "metadata": {},
   "outputs": [
    {
     "data": {
      "image/png": "[encoded data removed]",
      "text/plain": [
       "<Figure size 432x288 with 2 Axes>"
      ]
     },
     "metadata": {
      "needs_background": "light"
     },
     "output_type": "display_data"
    },
    {
     "name": "stdout",
     "output_type": "stream",
     "text": [
      "Best Validation Accuracy :  0.356\n"
     ]
    }
   ],
   "source": [
    "fig = plt.figure()\n",
    "ax_acc = fig.add_subplot(111)\n",
    "\n",
    "# 에포크 숫자만큼 range(epoch)를 변경해주셔야 합니다~\n",
    "ax_acc.plot(range(85), history['val_acc'], label='정확도(%)', color='darkred')\n",
    "plt.xlabel('epochs')\n",
    "plt.ylabel('Validation Accuracy(%)')\n",
    "ax_acc.grid(linestyle='--', color='lavender')\n",
    "ax_loss = ax_acc.twinx()\n",
    "ax_loss.plot(range(85), history['val_loss'], label='오차', color='darkblue')\n",
    "plt.ylabel('Validation Loss')\n",
    "ax_loss.yaxis.tick_right()\n",
    "ax_loss.grid(linestyle='--', color='lavender')\n",
    "\n",
    "# 그래프 표시\n",
    "plt.show()\n",
    "\n",
    "# 최고 validation accuracy는?\n",
    "print(\"Best Validation Accuracy : \",max(history['val_acc']))"
   ]
  },
  {
   "cell_type": "markdown",
   "metadata": {},
   "source": [
    "* epoch은 늘리고  batch_size는 줄여준 다음, 층의 개수를 다르게 줘보니 성능이 좋아졌다!"
   ]
  },
  {
   "cell_type": "code",
   "execution_count": 30,
   "metadata": {},
   "outputs": [],
   "source": [
    "# 파라미터는 위와 동일하게 주고, 층의 수를 다르게 주어보았다!\n",
    "nn = CustomNet(lr=0.0005, epoch=85, batch_size=400)\n",
    "\n",
    "nn.addLayer(Layer(3072,2000))\n",
    "nn.addActivation(sigmoid)\n",
    "nn.addLayer(Layer(2000,10))"
   ]
  },
  {
   "cell_type": "code",
   "execution_count": 31,
   "metadata": {},
   "outputs": [
    {
     "name": "stdout",
     "output_type": "stream",
     "text": [
      "(3072, 2000) (2000,)\n",
      "(2000, 10) (10,)\n"
     ]
    }
   ],
   "source": [
    "# 선언한 뉴럴넷의 구조입니다.\n",
    "for layer in nn.layers:\n",
    "    print(layer.weight.shape, layer.bias.shape)"
   ]
  },
  {
   "cell_type": "code",
   "execution_count": 32,
   "metadata": {},
   "outputs": [
    {
     "name": "stdout",
     "output_type": "stream",
     "text": [
      "0 test accuracy : 0.1\n",
      "0 test loss     : 2561.3592430212166\n",
      "50 test accuracy : 0.308\n",
      "50 test loss     : 1922.0764570139816\n"
     ]
    }
   ],
   "source": [
    "history = nn.fit(x_train, y_train, x_test, y_test)"
   ]
  },
  {
   "cell_type": "code",
   "execution_count": 33,
   "metadata": {
    "scrolled": true
   },
   "outputs": [
    {
     "data": {
      "image/png": "[encoded data removed]",
      "text/plain": [
       "<Figure size 432x288 with 2 Axes>"
      ]
     },
     "metadata": {
      "needs_background": "light"
     },
     "output_type": "display_data"
    },
    {
     "name": "stdout",
     "output_type": "stream",
     "text": [
      "Best Validation Accuracy :  0.36\n"
     ]
    }
   ],
   "source": [
    "fig = plt.figure()\n",
    "ax_acc = fig.add_subplot(111)\n",
    "\n",
    "# 에포크 숫자만큼 range(epoch)를 변경해주셔야 합니다~\n",
    "ax_acc.plot(range(85), history['val_acc'], label='정확도(%)', color='darkred')\n",
    "plt.xlabel('epochs')\n",
    "plt.ylabel('Validation Accuracy(%)')\n",
    "ax_acc.grid(linestyle='--', color='lavender')\n",
    "ax_loss = ax_acc.twinx()\n",
    "ax_loss.plot(range(85), history['val_loss'], label='오차', color='darkblue')\n",
    "plt.ylabel('Validation Loss')\n",
    "ax_loss.yaxis.tick_right()\n",
    "ax_loss.grid(linestyle='--', color='lavender')\n",
    "\n",
    "# 그래프 표시\n",
    "plt.show()\n",
    "\n",
    "# 최고 validation accuracy는?\n",
    "print(\"Best Validation Accuracy : \",max(history['val_acc']))"
   ]
  },
  {
   "cell_type": "markdown",
   "metadata": {},
   "source": [
    "* 아주 살짝 더좋아졌다 ㅎㅎ"
   ]
  },
  {
   "cell_type": "code",
   "execution_count": 41,
   "metadata": {},
   "outputs": [],
   "source": [
    "# 파라미터는 위와 동일하게 주고, 층을 하나 더 쌓아보았다.\n",
    "nn = CustomNet(lr=0.0005, epoch=85, batch_size=400)\n",
    "\n",
    "nn.addLayer(Layer(3072,2000))\n",
    "nn.addActivation(sigmoid)\n",
    "nn.addLayer(Layer(2000,500))\n",
    "nn.addActivation(sigmoid)\n",
    "nn.addLayer(Layer(500,10))"
   ]
  },
  {
   "cell_type": "code",
   "execution_count": 42,
   "metadata": {},
   "outputs": [
    {
     "name": "stdout",
     "output_type": "stream",
     "text": [
      "(3072, 2000) (2000,)\n",
      "(2000, 500) (500,)\n",
      "(500, 10) (10,)\n"
     ]
    }
   ],
   "source": [
    "# 선언한 뉴럴넷의 구조입니다.\n",
    "for layer in nn.layers:\n",
    "    print(layer.weight.shape, layer.bias.shape)"
   ]
  },
  {
   "cell_type": "code",
   "execution_count": 43,
   "metadata": {},
   "outputs": [
    {
     "name": "stdout",
     "output_type": "stream",
     "text": [
      "0 test accuracy : 0.112\n",
      "0 test loss     : 2578.0750371284107\n",
      "50 test accuracy : 0.106\n",
      "50 test loss     : 2301.7396260541377\n"
     ]
    }
   ],
   "source": [
    "history = nn.fit(x_train, y_train, x_test, y_test)"
   ]
  },
  {
   "cell_type": "code",
   "execution_count": 44,
   "metadata": {},
   "outputs": [
    {
     "data": {
      "image/png": "[encoded data removed]",
      "text/plain": [
       "<Figure size 432x288 with 2 Axes>"
      ]
     },
     "metadata": {
      "needs_background": "light"
     },
     "output_type": "display_data"
    },
    {
     "name": "stdout",
     "output_type": "stream",
     "text": [
      "Best Validation Accuracy :  0.148\n"
     ]
    }
   ],
   "source": [
    "fig = plt.figure()\n",
    "ax_acc = fig.add_subplot(111)\n",
    "\n",
    "# 에포크 숫자만큼 range(epoch)를 변경해주셔야 합니다~\n",
    "ax_acc.plot(range(85), history['val_acc'], label='정확도(%)', color='darkred')\n",
    "plt.xlabel('epochs')\n",
    "plt.ylabel('Validation Accuracy(%)')\n",
    "ax_acc.grid(linestyle='--', color='lavender')\n",
    "ax_loss = ax_acc.twinx()\n",
    "ax_loss.plot(range(85), history['val_loss'], label='오차', color='darkblue')\n",
    "plt.ylabel('Validation Loss')\n",
    "ax_loss.yaxis.tick_right()\n",
    "ax_loss.grid(linestyle='--', color='lavender')\n",
    "\n",
    "# 그래프 표시\n",
    "plt.show()\n",
    "\n",
    "# 최고 validation accuracy는?\n",
    "print(\"Best Validation Accuracy : \",max(history['val_acc']))"
   ]
  },
  {
   "cell_type": "markdown",
   "metadata": {},
   "source": [
    "* loss는 계속 줄어들다가 일정한 모양을 보였지만, 정확도는 요동을 친다,, 정확도가 0.148로 굉장히 작게나왔다. 활성화함수를 두개다 sigmoid로 해서 그런가 싶어서 relu로 바꿔서 실행해보았다!"
   ]
  },
  {
   "cell_type": "code",
   "execution_count": 80,
   "metadata": {},
   "outputs": [],
   "source": [
    "nn = CustomNet(lr=0.0005, epoch=85, batch_size=400)\n",
    "\n",
    "nn.addLayer(Layer(3072,2000))\n",
    "nn.addActivation(sigmoid)\n",
    "nn.addLayer(Layer(2000,500))\n",
    "nn.addActivation(relu)\n",
    "nn.addLayer(Layer(500,10))"
   ]
  },
  {
   "cell_type": "code",
   "execution_count": 77,
   "metadata": {},
   "outputs": [
    {
     "name": "stdout",
     "output_type": "stream",
     "text": [
      "(3072, 2000) (2000,)\n",
      "(2000, 500) (500,)\n",
      "(500, 10) (10,)\n"
     ]
    }
   ],
   "source": [
    "# 선언한 뉴럴넷의 구조입니다.\n",
    "for layer in nn.layers:\n",
    "    print(layer.weight.shape, layer.bias.shape)"
   ]
  },
  {
   "cell_type": "code",
   "execution_count": 78,
   "metadata": {},
   "outputs": [
    {
     "name": "stdout",
     "output_type": "stream",
     "text": [
      "0 test accuracy : 0.103\n",
      "0 test loss     : 2742.316109509108\n",
      "50 test accuracy : 0.11\n",
      "50 test loss     : 2299.310518753867\n"
     ]
    }
   ],
   "source": [
    "history = nn.fit(x_train, y_train, x_test, y_test)"
   ]
  },
  {
   "cell_type": "code",
   "execution_count": 79,
   "metadata": {},
   "outputs": [
    {
     "data": {
      "image/png": "[encoded data removed]",
      "text/plain": [
       "<Figure size 432x288 with 2 Axes>"
      ]
     },
     "metadata": {
      "needs_background": "light"
     },
     "output_type": "display_data"
    },
    {
     "name": "stdout",
     "output_type": "stream",
     "text": [
      "Best Validation Accuracy :  0.16\n"
     ]
    }
   ],
   "source": [
    "fig = plt.figure()\n",
    "ax_acc = fig.add_subplot(111)\n",
    "\n",
    "# 에포크 숫자만큼 range(epoch)를 변경해주셔야 합니다~\n",
    "ax_acc.plot(range(85), history['val_acc'], label='정확도(%)', color='darkred')\n",
    "plt.xlabel('epochs')\n",
    "plt.ylabel('Validation Accuracy(%)')\n",
    "ax_acc.grid(linestyle='--', color='lavender')\n",
    "ax_loss = ax_acc.twinx()\n",
    "ax_loss.plot(range(85), history['val_loss'], label='오차', color='darkblue')\n",
    "plt.ylabel('Validation Loss')\n",
    "ax_loss.yaxis.tick_right()\n",
    "ax_loss.grid(linestyle='--', color='lavender')\n",
    "\n",
    "# 그래프 표시\n",
    "plt.show()\n",
    "\n",
    "# 최고 validation accuracy는?\n",
    "print(\"Best Validation Accuracy : \",max(history['val_acc']))"
   ]
  },
  {
   "cell_type": "markdown",
   "metadata": {},
   "source": [
    "* relu로 바꿔도 결과는 비슷하다"
   ]
  },
  {
   "cell_type": "code",
   "execution_count": 81,
   "metadata": {},
   "outputs": [],
   "source": [
    "#이번에는 2Layer로 하고 함수만 relu로 바꿔보았다\n",
    "nn = CustomNet(lr=0.0005, epoch=85, batch_size=400)\n",
    "\n",
    "nn.addLayer(Layer(3072,2000))\n",
    "nn.addActivation(relu)\n",
    "nn.addLayer(Layer(2000,10))"
   ]
  },
  {
   "cell_type": "code",
   "execution_count": 82,
   "metadata": {},
   "outputs": [
    {
     "name": "stdout",
     "output_type": "stream",
     "text": [
      "(3072, 2000) (2000,)\n",
      "(2000, 10) (10,)\n"
     ]
    }
   ],
   "source": [
    "# 선언한 뉴럴넷의 구조입니다.\n",
    "for layer in nn.layers:\n",
    "    print(layer.weight.shape, layer.bias.shape)"
   ]
  },
  {
   "cell_type": "code",
   "execution_count": 83,
   "metadata": {},
   "outputs": [
    {
     "name": "stdout",
     "output_type": "stream",
     "text": [
      "0 test accuracy : 0.139\n",
      "0 test loss     : 2355.0422832683535\n",
      "50 test accuracy : 0.407\n",
      "50 test loss     : 1629.1023261515716\n"
     ]
    }
   ],
   "source": [
    "history = nn.fit(x_train, y_train, x_test, y_test)"
   ]
  },
  {
   "cell_type": "code",
   "execution_count": 84,
   "metadata": {},
   "outputs": [
    {
     "data": {
      "image/png": "[encoded data removed]",
      "text/plain": [
       "<Figure size 432x288 with 2 Axes>"
      ]
     },
     "metadata": {
      "needs_background": "light"
     },
     "output_type": "display_data"
    },
    {
     "name": "stdout",
     "output_type": "stream",
     "text": [
      "Best Validation Accuracy :  0.435\n"
     ]
    }
   ],
   "source": [
    "fig = plt.figure()\n",
    "ax_acc = fig.add_subplot(111)\n",
    "\n",
    "# 에포크 숫자만큼 range(epoch)를 변경해주셔야 합니다~\n",
    "ax_acc.plot(range(85), history['val_acc'], label='정확도(%)', color='darkred')\n",
    "plt.xlabel('epochs')\n",
    "plt.ylabel('Validation Accuracy(%)')\n",
    "ax_acc.grid(linestyle='--', color='lavender')\n",
    "ax_loss = ax_acc.twinx()\n",
    "ax_loss.plot(range(85), history['val_loss'], label='오차', color='darkblue')\n",
    "plt.ylabel('Validation Loss')\n",
    "ax_loss.yaxis.tick_right()\n",
    "ax_loss.grid(linestyle='--', color='lavender')\n",
    "\n",
    "# 그래프 표시\n",
    "plt.show()\n",
    "\n",
    "# 최고 validation accuracy는?\n",
    "print(\"Best Validation Accuracy : \",max(history['val_acc']))"
   ]
  },
  {
   "cell_type": "markdown",
   "metadata": {},
   "source": [
    "* 2Layer에서 활성화함수를 relu로 바꾸었더니 정확도가 가장 높게 나왔다!!"
   ]
  },
  {
   "cell_type": "markdown",
   "metadata": {},
   "source": [
    "정리해보자면 가장 높은 정확도를 보인 모델은 정확도가 0.435인 아래모델이다!\n",
    "\n",
    "nn = CustomNet(lr=0.0005, epoch=85, batch_size=400)\n",
    "\n",
    "nn.addLayer(Layer(3072,2000))\n",
    "\n",
    "nn.addActivation(relu)\n",
    "\n",
    "nn.addLayer(Layer(2000,10))"
   ]
  }
 ],
 "metadata": {
  "kernelspec": {
   "display_name": "Python 3",
   "language": "python",
   "name": "python3"
  },
  "language_info": {
   "codemirror_mode": {
    "name": "ipython",
    "version": 3
   },
   "file_extension": ".py",
   "mimetype": "text/x-python",
   "name": "python",
   "nbconvert_exporter": "python",
   "pygments_lexer": "ipython3",
   "version": "3.8.3"
  }
 },
 "nbformat": 4,
 "nbformat_minor": 4
}
